{
  "nbformat": 4,
  "nbformat_minor": 0,
  "metadata": {
    "colab": {
      "provenance": []
    },
    "kernelspec": {
      "name": "python3",
      "display_name": "Python 3"
    },
    "language_info": {
      "name": "python"
    }
  },
  "cells": [
    {
      "cell_type": "markdown",
      "source": [
        "# Conceptos Clave para Text Mining con Python"
      ],
      "metadata": {
        "id": "1HuLj9EPvPcz"
      }
    },
    {
      "cell_type": "markdown",
      "source": [
        "Conceptos Clave para Análisis de Textos con Python"
      ],
      "metadata": {
        "id": "HQHw9Lcnvo56"
      }
    },
    {
      "cell_type": "markdown",
      "source": [
        "# **Objetivos de Aprendizaje**\n",
        "\n",
        "Al finalizar este cuaderno podrás:\n",
        "\n",
        "1. Manipular estructuras de datos clave en Python\n",
        "2. Aplicar operaciones básicas con Pandas\n",
        "3. Interpretar visualizaciones de análisis textual\n",
        "4. Relacionar estos conceptos con el proyecto de Casciari\n",
        "\n",
        "**¿Cómo Usar Este Cuaderno?**\n",
        "\n",
        "1. Ejecuta las celdas en orden\n",
        "2. Experimenta modificando los ejemplos\n",
        "3. Conecta los conceptos con el proyecto principal\n",
        "4. Resuelve los ejercicios prácticos"
      ],
      "metadata": {
        "id": "5dkHm0FavsBF"
      }
    },
    {
      "cell_type": "code",
      "source": [
        "# Creación de una lista llamada \"palabras\"\n",
        "palabras = [\"libro\", \"padre\", \"fútbol\", \"escritura\"]\n",
        "\n",
        "# en este casi la lista contiene 4 strings.\n",
        "print(\"Lista original:\", palabras) # Imprime la lista original en la consola.\n"
      ],
      "metadata": {
        "colab": {
          "base_uri": "https://localhost:8080/"
        },
        "id": "M4LH01uowl_s",
        "outputId": "60011301-e1c6-48b9-977f-ebd908dfdf93"
      },
      "execution_count": 1,
      "outputs": [
        {
          "output_type": "stream",
          "name": "stdout",
          "text": [
            "Lista original: ['libro', 'padre', 'fútbol', 'escritura']\n"
          ]
        }
      ]
    },
    {
      "cell_type": "code",
      "source": [
        "# Operaciones básicas con la lista\n",
        "palabras.append(\"familia\")  # Se agrega el string \"familia\" al final de la lista.\n",
        "\n",
        "# .append() es un método de las listas en Python.\n",
        "print(\"Después de append:\", palabras) # Imprime la lista modificada.\n"
      ],
      "metadata": {
        "colab": {
          "base_uri": "https://localhost:8080/"
        },
        "id": "Bq9OX4gtw4XS",
        "outputId": "b6cfab54-1920-4539-f522-8f9488debc64"
      },
      "execution_count": 2,
      "outputs": [
        {
          "output_type": "stream",
          "name": "stdout",
          "text": [
            "Después de append: ['libro', 'padre', 'fútbol', 'escritura', 'familia']\n"
          ]
        }
      ]
    },
    {
      "cell_type": "code",
      "source": [
        "# Acceso a elementos de la lista por su índice\n",
        "print(\"\\nPrimera palabra:\", palabras[0])\n",
        "\n",
        "# Se accede al primer elemento (índice 0 en Python).\n",
        "print(\"Última palabra:\", palabras[-1])\n",
        "# Se accede al último elemento usando un índice negativo.\n"
      ],
      "metadata": {
        "colab": {
          "base_uri": "https://localhost:8080/"
        },
        "id": "RTYo0tnqw_S0",
        "outputId": "536b8940-3959-4eab-e96c-283a41afeec9"
      },
      "execution_count": 3,
      "outputs": [
        {
          "output_type": "stream",
          "name": "stdout",
          "text": [
            "\n",
            "Primera palabra: libro\n",
            "Última palabra: familia\n"
          ]
        }
      ]
    },
    {
      "cell_type": "markdown",
      "source": [
        "## **Ejercicio 1: Modificación de Listas**\n",
        "\n",
        "Instrucciones: Agrega tres palabras más a la lista y muéstralas."
      ],
      "metadata": {
        "id": "VNJMj21RxWo2"
      }
    },
    {
      "cell_type": "code",
      "source": [
        "palabras = [\"gato\", \"perro\", \"telefono\", \"libro\", \"computadora\"]  # Lista actual\n"
      ],
      "metadata": {
        "id": "rZI9ql7OvpdC"
      },
      "execution_count": 4,
      "outputs": []
    },
    {
      "cell_type": "code",
      "source": [
        "# Agregar tres palabras más\n",
        "palabras.append(\"mate\")\n",
        "palabras.append(\"termo\")\n",
        "palabras.append(\"heladera\")"
      ],
      "metadata": {
        "id": "BbAtn1iLxhjS"
      },
      "execution_count": 5,
      "outputs": []
    },
    {
      "cell_type": "code",
      "source": [
        "# Mostrar la lista actualizada\n",
        "print(\"Lista actualizada:\", palabras)"
      ],
      "metadata": {
        "colab": {
          "base_uri": "https://localhost:8080/"
        },
        "id": "jPkxwP_Dxh_8",
        "outputId": "8d51f7da-8cbf-42d3-c5f5-16ccb2c84026"
      },
      "execution_count": 6,
      "outputs": [
        {
          "output_type": "stream",
          "name": "stdout",
          "text": [
            "Lista actualizada: ['gato', 'perro', 'telefono', 'libro', 'computadora', 'mate', 'termo', 'heladera']\n"
          ]
        }
      ]
    },
    {
      "cell_type": "markdown",
      "source": [
        "# Diccionarios: Pares clave-valor"
      ],
      "metadata": {
        "id": "Ra-rR0dZyDdX"
      }
    },
    {
      "cell_type": "code",
      "source": [
        "# Creación del diccionario \"autor\"\n",
        "autor = {\n",
        "    \"nombre\": \"Hernán Casciari\",  # Clave \"nombre\" con el valor \"Hernán Casciari\"\n",
        "    \"año_nacimiento\": 1971,     # Clave \"año_nacimiento\" con el valor 1971\n",
        "    \"obras\": [\"Más respeto que soy tu madre\", \"El amor es más fuerte\"]  # Clave \"obras\" con una lista de obras\n",
        "}"
      ],
      "metadata": {
        "id": "qwaRCJGsyxle"
      },
      "execution_count": 7,
      "outputs": []
    },
    {
      "cell_type": "code",
      "source": [
        "# Acceso a los valores del diccionario\n",
        "print(\"\\nDiccionario del autor:\")\n",
        "print(\"Nombre:\", autor[\"nombre\"])  # Imprime el valor asociado a la clave \"nombre\"\n",
        "print(\"Primera obra:\", autor[\"obras\"][0])  # Imprime el primer elemento de la lista en la clave \"obras\"\n"
      ],
      "metadata": {
        "colab": {
          "base_uri": "https://localhost:8080/"
        },
        "id": "LJD7enoLyzhZ",
        "outputId": "a5ac8275-a1eb-4b35-b077-ee5156636280"
      },
      "execution_count": 8,
      "outputs": [
        {
          "output_type": "stream",
          "name": "stdout",
          "text": [
            "\n",
            "Diccionario del autor:\n",
            "Nombre: Hernán Casciari\n",
            "Primera obra: Más respeto que soy tu madre\n"
          ]
        }
      ]
    },
    {
      "cell_type": "code",
      "source": [
        "# Modificación del diccionario\n",
        "autor[\"ciudad\"] = \"Buenos Aires\"  # Agrega una nueva clave \"ciudad\" con el valor \"Buenos Aires\"\n",
        "print(\"\\nDiccionario actualizado:\", autor)  # Imprime el diccionario completo con la nueva clave-valor"
      ],
      "metadata": {
        "colab": {
          "base_uri": "https://localhost:8080/"
        },
        "id": "nXix9Zyey1WL",
        "outputId": "384656be-0e28-41b8-cda9-e6de217f5086"
      },
      "execution_count": 9,
      "outputs": [
        {
          "output_type": "stream",
          "name": "stdout",
          "text": [
            "\n",
            "Diccionario actualizado: {'nombre': 'Hernán Casciari', 'año_nacimiento': 1971, 'obras': ['Más respeto que soy tu madre', 'El amor es más fuerte'], 'ciudad': 'Buenos Aires'}\n"
          ]
        }
      ]
    },
    {
      "cell_type": "markdown",
      "source": [
        "## **Ejercicio 2: Modificación de Diccionarios**\n",
        "\n",
        "Instrucciones: Añade un par clave-valor para el autor que indique \"nacionalidad\" y luego imprímilo."
      ],
      "metadata": {
        "id": "BPVWtM9Ky7lL"
      }
    },
    {
      "cell_type": "code",
      "source": [
        "# Diccionario actual\n",
        "autor = {\n",
        "  \"nombre\": \"J.K. Rowling\",\n",
        "  \"año_nacimiento\": 1965,\n",
        "  \"obras\": [\"Harry Potter y la piedra filosofal\", \"Harry Potter y la cámara secreta\", \"Harry Potter y el prisionero de Azkaban\"],\n",
        "  \"ciudad\": \"Yate\"\n",
        "}\n"
      ],
      "metadata": {
        "id": "L8QNjm3PzFRq"
      },
      "execution_count": 13,
      "outputs": []
    },
    {
      "cell_type": "code",
      "source": [
        "# Añadir la nacionalidad\n",
        "autor[\"nacionalidad\"] = \"Británica\"  # Se agrega la clave \"nacionalidad\" con el valor \"Británica\"\n"
      ],
      "metadata": {
        "id": "A-iM5rcPzH-H"
      },
      "execution_count": 14,
      "outputs": []
    },
    {
      "cell_type": "code",
      "source": [
        "# Imprimir el diccionario actualizado\n",
        "print(\"\\nDiccionario con nacionalidad:\", autor) # Imprime el diccionario con la nueva clave-valor"
      ],
      "metadata": {
        "colab": {
          "base_uri": "https://localhost:8080/"
        },
        "id": "oZv_OZ0ZzIXd",
        "outputId": "cd64c872-4b25-428b-8128-624d608da6a5"
      },
      "execution_count": 15,
      "outputs": [
        {
          "output_type": "stream",
          "name": "stdout",
          "text": [
            "\n",
            "Diccionario con nacionalidad: {'nombre': 'J.K. Rowling', 'año_nacimiento': 1965, 'obras': ['Harry Potter y la piedra filosofal', 'Harry Potter y la cámara secreta', 'Harry Potter y el prisionero de Azkaban'], 'ciudad': 'Yate', 'nacionalidad': 'Británica'}\n"
          ]
        }
      ]
    },
    {
      "cell_type": "markdown",
      "source": [
        "# Introducción a Pandas DataFrames"
      ],
      "metadata": {
        "id": "V9jse5rjz-FA"
      }
    },
    {
      "cell_type": "markdown",
      "source": [
        "## Qué es un DataFrame y cómo funciona Pandas\n",
        "\n",
        "Un **DataFrame** es como una tabla de Excel dentro de Python - es la estructura principal que usamos en Pandas para trabajar con datos organizados en filas y columnas."
      ],
      "metadata": {
        "id": "rT5_U7Utz_FE"
      }
    },
    {
      "cell_type": "code",
      "source": [
        "# Ejemplo visual de un DataFrame simple\n",
        "import pandas as pd # Importa la biblioteca Pandas para trabajar con DataFrames\n",
        "\n",
        "# Cargamos datos reales (ejemplo simplificado)\n",
        "casciari_data = { # Se crea un diccionario llamado 'casciari_data' para almacenar los datos\n",
        "    'Año': [2004, 2005, 2006], # Clave 'Año' con una lista de años\n",
        "    'Palabra_clave': ['padre', 'fútbol', 'escritura'], # Clave 'Palabra_clave' con una lista de palabras clave\n",
        "    'Frecuencia': [45, 32, 28] # Clave 'Frecuencia' con una lista de frecuencias\n",
        "}\n",
        "\n",
        "df_casciari = pd.DataFrame(casciari_data) # Se crea un DataFrame llamado 'df_casciari' a partir del diccionario 'casciari_data'"
      ],
      "metadata": {
        "id": "k_LbftoL0Ics"
      },
      "execution_count": 56,
      "outputs": []
    },
    {
      "cell_type": "code",
      "source": [
        "# Por columna\n",
        "print(df_casciari['Palabra_clave'])"
      ],
      "metadata": {
        "colab": {
          "base_uri": "https://localhost:8080/"
        },
        "id": "k9GCGqsY0LrC",
        "outputId": "ea15a608-09f3-47e3-a1da-09d165710e09"
      },
      "execution_count": 57,
      "outputs": [
        {
          "output_type": "stream",
          "name": "stdout",
          "text": [
            "0        padre\n",
            "1       fútbol\n",
            "2    escritura\n",
            "Name: Palabra_clave, dtype: object\n"
          ]
        }
      ]
    },
    {
      "cell_type": "code",
      "source": [
        "# Por fila\n",
        "print(df_casciari.iloc[0])  # Primera fila"
      ],
      "metadata": {
        "colab": {
          "base_uri": "https://localhost:8080/"
        },
        "id": "LCgqDZib0NqT",
        "outputId": "dd709aae-869d-4484-e17a-ecac9bf11c9e"
      },
      "execution_count": 58,
      "outputs": [
        {
          "output_type": "stream",
          "name": "stdout",
          "text": [
            "Año               2004\n",
            "Palabra_clave    padre\n",
            "Frecuencia          45\n",
            "Name: 0, dtype: object\n"
          ]
        }
      ]
    },
    {
      "cell_type": "code",
      "source": [
        "# Por condición\n",
        "print(df_casciari[df_casciari['Frecuencia'] > 28])"
      ],
      "metadata": {
        "colab": {
          "base_uri": "https://localhost:8080/"
        },
        "id": "eVej34kk0ODH",
        "outputId": "45042943-9336-4549-a03a-8d261abf9c47"
      },
      "execution_count": 59,
      "outputs": [
        {
          "output_type": "stream",
          "name": "stdout",
          "text": [
            "    Año Palabra_clave  Frecuencia\n",
            "0  2004         padre          45\n",
            "1  2005        fútbol          32\n"
          ]
        }
      ]
    },
    {
      "cell_type": "markdown",
      "source": [
        "Características clave:\n",
        "\n",
        "* Cada columna tiene un nombre (como 'Nombre', 'Edad')\n",
        "\n",
        "* Cada fila representa un registro o observación\n",
        "\n",
        "* Podemos acceder a los datos de diferentes maneras:"
      ],
      "metadata": {
        "id": "RhC90BNr0kun"
      }
    },
    {
      "cell_type": "markdown",
      "source": [
        "Analogía útil: Imagina que el DataFrame es una tabla SQL o una hoja de cálculo donde:\n",
        "\n",
        "* Las columnas son variables (como nombre, edad)\n",
        "\n",
        "* Las filas son observaciones o registros individuales"
      ],
      "metadata": {
        "id": "xgjlFwCO0mUZ"
      }
    },
    {
      "cell_type": "markdown",
      "source": [
        "## Ejercicio 3: Manipulación de DataFrames\n",
        "\n",
        "Instrucciones: Añadí una columna \"Género\" al DataFrame con valores \"Ficción\" para todos los registros."
      ],
      "metadata": {
        "id": "MedExdXI0rHQ"
      }
    },
    {
      "cell_type": "code",
      "source": [
        "import pandas as pd"
      ],
      "metadata": {
        "id": "Upz7qQUm09LG"
      },
      "execution_count": 20,
      "outputs": []
    },
    {
      "cell_type": "code",
      "source": [
        "# Cargamos datos reales (ejemplo simplificado)\n",
        "casciari_data = {\n",
        "    'Año': [2020, 2021, 2025],\n",
        "    'Palabra_clave': ['bastet', 'baba', 'viela'],\n",
        "    'Frecuencia': [11, 12, 25]\n",
        "}\n",
        "\n",
        "df_casciari = pd.DataFrame(casciari_data)"
      ],
      "metadata": {
        "id": "od18gk0G0_Pf"
      },
      "execution_count": 24,
      "outputs": []
    },
    {
      "cell_type": "code",
      "source": [
        "# Añadir la columna \"Género\"\n",
        "df_casciari['Género'] = 'Femenino'  # Asignar el valor \"Ficción\" a todos los registros"
      ],
      "metadata": {
        "id": "tJmPlQYf1CBx"
      },
      "execution_count": 25,
      "outputs": []
    },
    {
      "cell_type": "code",
      "source": [
        "# Mostrar el DataFrame actualizado\n",
        "print(df_casciari)"
      ],
      "metadata": {
        "colab": {
          "base_uri": "https://localhost:8080/"
        },
        "id": "mBlQfFHQ1DpS",
        "outputId": "c7caf9e3-cf3c-4217-c217-5e723de6bd72"
      },
      "execution_count": 26,
      "outputs": [
        {
          "output_type": "stream",
          "name": "stdout",
          "text": [
            "    Año Palabra_clave  Frecuencia    Género\n",
            "0  2020        bastet          11  Femenino\n",
            "1  2021          baba          12  Femenino\n",
            "2  2025         viela          25  Femenino\n"
          ]
        }
      ]
    },
    {
      "cell_type": "markdown",
      "source": [
        "# Visualización de Datos\n",
        "\n",
        "Ejemplo: Usando Matplotlib para Visualización"
      ],
      "metadata": {
        "id": "QCkrPmlr1oqv"
      }
    },
    {
      "cell_type": "code",
      "source": [
        "import matplotlib.pyplot as plt"
      ],
      "metadata": {
        "id": "s66RUvrb1q0v"
      },
      "execution_count": 27,
      "outputs": []
    },
    {
      "cell_type": "code",
      "source": [
        "# Visualización simple de las frecuencias\n",
        "plt.bar(df_casciari['Palabra_clave'], df_casciari['Frecuencia'])\n",
        "plt.title('Frecuencia de Palabras Clave')\n",
        "plt.xlabel('Palabras Clave')\n",
        "plt.ylabel('Frecuencia')\n",
        "plt.show()"
      ],
      "metadata": {
        "colab": {
          "base_uri": "https://localhost:8080/",
          "height": 472
        },
        "id": "dteyrhmN1wfW",
        "outputId": "bc353d4f-8eff-471e-9c4f-7e6fab724bfb"
      },
      "execution_count": 28,
      "outputs": [
        {
          "output_type": "display_data",
          "data": {
            "text/plain": [
              "<Figure size 640x480 with 1 Axes>"
            ],
            "image/png": "[encoded data removed]"
          },
          "metadata": {}
        }
      ]
    },
    {
      "cell_type": "markdown",
      "source": [
        "## Ejercicio 4: Crear Gráficas\n",
        "\n",
        "Instrucciones: Crea una gráfica que muestre la relación entre el \"Año\" y la \"Frecuencia\"."
      ],
      "metadata": {
        "id": "BQZb01Bv1_KC"
      }
    },
    {
      "cell_type": "code",
      "source": [
        "import matplotlib.pyplot as plt # Importa la biblioteca para crear gráficos\n",
        "import pandas as pd # Importa la biblioteca para manejar DataFrames"
      ],
      "metadata": {
        "id": "NeIWmRUL2Mer"
      },
      "execution_count": 30,
      "outputs": []
    },
    {
      "cell_type": "code",
      "source": [
        "# Cargamos datos reales (ejemplo simplificado)\n",
        "casciari_data = {\n",
        "    'Año': [2020, 2021, 2025], # Datos para la columna 'Año'\n",
        "    'Palabra_clave': ['bastet', 'baba', 'viela'], # Datos para la columna 'Palabra_clave'\n",
        "    'Frecuencia': [11, 12, 25] # Datos para la columna 'Frecuencia'\n",
        "}\n",
        "\n",
        "df_casciari = pd.DataFrame(casciari_data) # Crea un DataFrame con los datos\n"
      ],
      "metadata": {
        "id": "TS3jvfu22P6v"
      },
      "execution_count": 33,
      "outputs": []
    },
    {
      "cell_type": "code",
      "source": [
        "# Crear la gráfica\n",
        "plt.plot(df_casciari['Año'], df_casciari['Frecuencia'], marker='o')  # Crea una gráfica de línea con puntos ('o')\n",
        "plt.title('Relación entre Año y Frecuencia') # Agrega un título a la gráfica\n",
        "plt.xlabel('Año') # Etiqueta el eje x como 'Año'\n",
        "plt.ylabel('Frecuencia') # Etiqueta el eje y como 'Frecuencia'\n",
        "plt.grid(True)  # Muestra una cuadrícula en la gráfica\n",
        "plt.show() # Muestra la gráfica"
      ],
      "metadata": {
        "colab": {
          "base_uri": "https://localhost:8080/",
          "height": 472
        },
        "id": "xjsRH6uT2SxK",
        "outputId": "f101f0e6-554d-4c46-a775-ac2c79025923"
      },
      "execution_count": 34,
      "outputs": [
        {
          "output_type": "display_data",
          "data": {
            "text/plain": [
              "<Figure size 640x480 with 1 Axes>"
            ],
            "image/png": "[encoded data removed]"
          },
          "metadata": {}
        }
      ]
    },
    {
      "cell_type": "markdown",
      "source": [
        "# Lambda functions y apply()\n",
        "\n",
        "Una **lambda** function es una función pequeña y anónima (sin nombre) que podemos crear \"al vuelo\"."
      ],
      "metadata": {
        "id": "I4kYj5mc2x7F"
      }
    },
    {
      "cell_type": "code",
      "source": [
        "# Función normal\n",
        "def sumar_cinco(x):  # Define una función llamada 'sumar_cinco' que recibe un valor 'x'\n",
        "    return x + 5  # La función devuelve el valor de 'x' más 5"
      ],
      "metadata": {
        "id": "6DSPFbqR25VV"
      },
      "execution_count": 60,
      "outputs": []
    },
    {
      "cell_type": "code",
      "source": [
        "# Equivalente con lambda\n",
        "lambda x: x + 5"
      ],
      "metadata": {
        "colab": {
          "base_uri": "https://localhost:8080/"
        },
        "id": "4VZWrrly25_N",
        "outputId": "0f9ccd23-d6d7-4237-883b-66a2283730bf"
      },
      "execution_count": 36,
      "outputs": [
        {
          "output_type": "execute_result",
          "data": {
            "text/plain": [
              "<function __main__.<lambda>(x)>"
            ]
          },
          "metadata": {},
          "execution_count": 36
        }
      ]
    },
    {
      "cell_type": "markdown",
      "source": [
        "¿Por qué usamos lambda con apply()?\n",
        "\n",
        "apply() nos permite aplicar una función a cada elemento de una columna o fila del DataFrame. Las lambdas son perfectas para esto porque son sencillas."
      ],
      "metadata": {
        "id": "_yvhyG992-c6"
      }
    },
    {
      "cell_type": "code",
      "source": [
        "# Ejemplo práctico con nuestro DataFrame anterior\n",
        "df_casciari['Frecuencia_relativa'] = df_casciari['Frecuencia'].apply(lambda x: x/max(df_casciari['Frecuencia']))"
      ],
      "metadata": {
        "id": "KTlpjI5F2_k7"
      },
      "execution_count": 37,
      "outputs": []
    },
    {
      "cell_type": "code",
      "source": [
        "print(\"\\nDatos de Casciari procesados:\")\n",
        "print(df_casciari)"
      ],
      "metadata": {
        "colab": {
          "base_uri": "https://localhost:8080/"
        },
        "id": "yq73OdGu3ERD",
        "outputId": "c73d203f-b54e-4807-e7bd-ae710ef43a90"
      },
      "execution_count": 38,
      "outputs": [
        {
          "output_type": "stream",
          "name": "stdout",
          "text": [
            "\n",
            "Datos de Casciari procesados:\n",
            "    Año Palabra_clave  Frecuencia  Frecuencia_relativa\n",
            "0  2020        bastet          11                 0.44\n",
            "1  2021          baba          12                 0.48\n",
            "2  2025         viela          25                 1.00\n"
          ]
        }
      ]
    },
    {
      "cell_type": "markdown",
      "source": [
        "Desglose paso a paso:\n",
        "\n",
        "* df['Edad'] selecciona la columna Edad\n",
        "\n",
        "* .apply() aplicará una función a cada valor\n",
        "\n",
        "* lambda x: x + 5 es la función que suma 5 a cada valor"
      ],
      "metadata": {
        "id": "epn6gjZS3ItD"
      }
    },
    {
      "cell_type": "markdown",
      "source": [
        "Ejemplo más complejo del notebook:"
      ],
      "metadata": {
        "id": "LknnnsC23QUc"
      }
    },
    {
      "cell_type": "code",
      "source": [
        "round1 = lambda x: clean_text_round1(x)"
      ],
      "metadata": {
        "id": "z-4rQrOA3Q0h"
      },
      "execution_count": 39,
      "outputs": []
    },
    {
      "cell_type": "markdown",
      "source": [
        "Esto equivale a:"
      ],
      "metadata": {
        "id": "c70fLFEj3T29"
      }
    },
    {
      "cell_type": "code",
      "source": [
        "def round1(x):\n",
        "    return clean_text_round1(x)"
      ],
      "metadata": {
        "id": "I0TGmpCi3V2C"
      },
      "execution_count": 40,
      "outputs": []
    },
    {
      "cell_type": "markdown",
      "source": [
        "## Ejercicio 5: Uso de apply()\n",
        "\n",
        "Instrucciones: Usa apply() para añadir una nueva columna \"Frecuencia_cuadrado\" que contenga el cuadrado de las frecuencias."
      ],
      "metadata": {
        "id": "xLs3rEQ43Yc4"
      }
    },
    {
      "cell_type": "code",
      "source": [
        "import pandas as pd\n"
      ],
      "metadata": {
        "id": "ekcGUf1S3kMq"
      },
      "execution_count": 41,
      "outputs": []
    },
    {
      "cell_type": "code",
      "source": [
        "# Cargamos datos reales (ejemplo simplificado)\n",
        "casciari_data = {\n",
        "    'Año': [2020, 2021, 2025], # Datos para la columna 'Año'\n",
        "    'Palabra_clave': ['bastet', 'baba', 'viela'], # Datos para la columna 'Palabra_clave'\n",
        "    'Frecuencia': [11, 12, 25] # Datos para la columna 'Frecuencia'\n",
        "}\n",
        "\n",
        "df_casciari = pd.DataFrame(casciari_data) # Crea un DataFrame con los datos\n"
      ],
      "metadata": {
        "id": "SUNQTswf3lcs"
      },
      "execution_count": 45,
      "outputs": []
    },
    {
      "cell_type": "code",
      "source": [
        "# Añadir la columna \"Frecuencia_cuadrado\" usando apply()\n",
        "df_casciari['Frecuencia_cuadrado'] = df_casciari['Frecuencia'].apply(lambda x: x**2)\n",
        "# Aplica una función lambda para calcular el cuadrado de cada valor en la columna 'Frecuencia' y lo asigna a la nueva columna 'Frecuencia_cuadrado'\n"
      ],
      "metadata": {
        "id": "wwiyKoOV3l1Q"
      },
      "execution_count": 47,
      "outputs": []
    },
    {
      "cell_type": "code",
      "source": [
        "# Mostrar el DataFrame actualizado\n",
        "print(df_casciari) # Imprime el DataFrame con la nueva columna 'Frecuencia_cuadrado'"
      ],
      "metadata": {
        "colab": {
          "base_uri": "https://localhost:8080/"
        },
        "id": "iJQPFkCA3oS7",
        "outputId": "edecca16-477c-437d-8201-9447128d5586"
      },
      "execution_count": 48,
      "outputs": [
        {
          "output_type": "stream",
          "name": "stdout",
          "text": [
            "    Año Palabra_clave  Frecuencia  Frecuencia_cuadrado\n",
            "0  2020        bastet          11                  121\n",
            "1  2021          baba          12                  144\n",
            "2  2025         viela          25                  625\n"
          ]
        }
      ]
    },
    {
      "cell_type": "markdown",
      "source": [
        "# Estructuras de datos clave: Diccionarios y Listas\n",
        "\n",
        "**Listas**\n",
        "\n",
        "Son colecciones ordenadas y modificables de elementos."
      ],
      "metadata": {
        "id": "By28Vz8U4AL9"
      }
    },
    {
      "cell_type": "code",
      "source": [
        "# Crea una lista llamada \"frutas\" que contiene tres elementos: 'manzana', 'banana' y 'naranja'.\n",
        "\n",
        "frutas = ['manzana', 'banana', 'naranja']\n"
      ],
      "metadata": {
        "id": "MmciNCFW4Fp1"
      },
      "execution_count": 62,
      "outputs": []
    },
    {
      "cell_type": "code",
      "source": [
        "# Imprime el primer elemento de la lista \"frutas\", que es 'manzana'.\n",
        "print(frutas[0])"
      ],
      "metadata": {
        "colab": {
          "base_uri": "https://localhost:8080/"
        },
        "id": "Zh-5ecbA4I8s",
        "outputId": "bc50dbd9-9a74-4eec-f1da-cb893b542e67"
      },
      "execution_count": 63,
      "outputs": [
        {
          "output_type": "stream",
          "name": "stdout",
          "text": [
            "manzana\n"
          ]
        }
      ]
    },
    {
      "cell_type": "code",
      "source": [
        "# Modificación\n",
        "frutas.append('pera')  # Añade al final\n",
        "frutas[1] = 'kiwi'     # Modifica un elemento"
      ],
      "metadata": {
        "id": "IvoL-cOA4KlH"
      },
      "execution_count": 64,
      "outputs": []
    },
    {
      "cell_type": "markdown",
      "source": [
        "**Diccionarios**\n",
        "\n",
        "Almacenan pares clave-valor (como un mapa o objeto)."
      ],
      "metadata": {
        "id": "UgE5uhqH4MRk"
      }
    },
    {
      "cell_type": "code",
      "source": [
        "# Crea un diccionario llamado \"persona\" que almacena información sobre una persona (nombre, edad y ciudad).\n",
        "\n",
        "persona = {\n",
        "    'nombre': 'Carlos',\n",
        "    'edad': 30,\n",
        "    'ciudad': 'Buenos Aires'\n",
        "}"
      ],
      "metadata": {
        "id": "QwOPaNnd4QJ_"
      },
      "execution_count": 66,
      "outputs": []
    },
    {
      "cell_type": "code",
      "source": [
        "# Imprime el valor asociado a la clave 'nombre' en el diccionario \"persona\", que es 'Carlos'.\n",
        "\n",
        "print(persona['nombre'])"
      ],
      "metadata": {
        "colab": {
          "base_uri": "https://localhost:8080/"
        },
        "id": "AkB-PFYp4Rtl",
        "outputId": "bcc0247d-8004-439b-deda-4f9372821883"
      },
      "execution_count": 67,
      "outputs": [
        {
          "output_type": "stream",
          "name": "stdout",
          "text": [
            "Carlos\n"
          ]
        }
      ]
    },
    {
      "cell_type": "code",
      "source": [
        "# Modificación\n",
        "persona['edad'] = 31      # Actualiza el valor de la clave 'edad' en el diccionario \"persona\" a 31.\n",
        "persona['ocupacion'] = 'Data Scientist'  # Agrega una nueva clave 'ocupacion' con el valor 'Data Scientist' al diccionario \"persona\"."
      ],
      "metadata": {
        "id": "q17Lj4a44TUo"
      },
      "execution_count": 68,
      "outputs": []
    },
    {
      "cell_type": "markdown",
      "source": [
        "Ejemplo practico integrado"
      ],
      "metadata": {
        "id": "wylLZzdh4a3H"
      }
    },
    {
      "cell_type": "code",
      "source": [
        "# 1. Creemos una lista de diccionarios\n",
        "estudiantes = [\n",
        "    {'nombre': 'Ana', 'nota': 85},\n",
        "    {'nombre': 'Juan', 'nota': 72},\n",
        "    {'nombre': 'María', 'nota': 91}\n",
        "]"
      ],
      "metadata": {
        "id": "uBC5pWsK4bvZ"
      },
      "execution_count": 72,
      "outputs": []
    },
    {
      "cell_type": "code",
      "source": [
        "# 2. Convertimos a DataFrame\n",
        "import pandas as pd\n",
        "df_estudiantes = pd.DataFrame(estudiantes)"
      ],
      "metadata": {
        "id": "f0K_xCy04dlK"
      },
      "execution_count": 73,
      "outputs": []
    },
    {
      "cell_type": "code",
      "source": [
        "# 3. Usamos apply() con lambda para añadir columna\n",
        "df_estudiantes['estado'] = df_estudiantes['nota'].apply(\n",
        "    lambda x: 'Aprobado' if x >= 75 else 'Reprobado'\n",
        ")\n",
        "\n",
        "print(df_estudiantes)"
      ],
      "metadata": {
        "colab": {
          "base_uri": "https://localhost:8080/"
        },
        "id": "BKll7QcH4fHn",
        "outputId": "97f8c11c-290b-40fe-aac8-9f0bfe381550"
      },
      "execution_count": 74,
      "outputs": [
        {
          "output_type": "stream",
          "name": "stdout",
          "text": [
            "  nombre  nota     estado\n",
            "0    Ana    85   Aprobado\n",
            "1   Juan    72  Reprobado\n",
            "2  María    91   Aprobado\n"
          ]
        }
      ]
    },
    {
      "cell_type": "markdown",
      "source": [
        "# Acerca de Pickle\n",
        "\n",
        "Pickle es un módulo en Python que permite serializar y deserializar objetos de Python. En otras palabras, convierte objetos de Python en un formato que puede ser guardado en un archivo y luego se puede cargar de nuevo en su forma original.\n",
        "\n",
        "A continuación se explican sus dos principales funciones:"
      ],
      "metadata": {
        "id": "7t2vMzDy6KSF"
      }
    },
    {
      "cell_type": "code",
      "source": [
        "import pickle\n",
        "\n",
        "# 1. Serialización: Convertir un objeto de Python en un flujo de bytes que puede ser guardado en un archivo.\n",
        "# Ejemplo:\n",
        "data = {\"a\": [1, 2, 3], \"b\": \"Python\"}\n",
        "with open(\"data.pkl\", \"wb\") as f: #'wb' se utiliza para abrir un archivo en modo de escritura binaria. Es necesario al trabajar con `pickle` para asegurarse de que los datos se guarden correctamente en un formato que no se corrompa al ser guardado.\n",
        "    pickle.dump(data, f)  # 'data' es serializado y guardado en 'data.pkl'"
      ],
      "metadata": {
        "id": "QJc6DZwH6NN5"
      },
      "execution_count": 75,
      "outputs": []
    },
    {
      "cell_type": "code",
      "source": [
        "# 2. Deserialización: Convertir un flujo de bytes que representa un objeto de Python de vuelta a su forma original.\n",
        "# Ejemplo:\n",
        "with open(\"data.pkl\", \"rb\") as f:\n",
        "    loaded_data = pickle.load(f)  # 'data.pkl' es deserializado de vuelta en 'loaded_data'"
      ],
      "metadata": {
        "id": "6RKzCz8i6Pa0"
      },
      "execution_count": 76,
      "outputs": []
    },
    {
      "cell_type": "code",
      "source": [
        "# loaded_data ahora es igual a data\n",
        "print(loaded_data)"
      ],
      "metadata": {
        "colab": {
          "base_uri": "https://localhost:8080/"
        },
        "id": "QlK-c81t6RMZ",
        "outputId": "c638ff44-78ff-4286-905c-7826e0ee98a4"
      },
      "execution_count": 77,
      "outputs": [
        {
          "output_type": "stream",
          "name": "stdout",
          "text": [
            "{'a': [1, 2, 3], 'b': 'Python'}\n"
          ]
        }
      ]
    },
    {
      "cell_type": "markdown",
      "source": [
        "## Ejercicio 6: Ampliar el Análisis\n",
        "\n",
        "Instrucciones: Añadí una nueva columna \"Comentario\" que proporcione un breve comentario basado en la nota (por ejemplo, \"Excelente\", \"Necesita mejorar\")."
      ],
      "metadata": {
        "id": "jFgqGrQg6UHm"
      }
    },
    {
      "cell_type": "code",
      "source": [
        "# Añadir la columna \"Comentario\" usando apply() y una función lambda\n",
        "df_estudiantes['Comentario'] = df_estudiantes['nota'].apply(lambda nota:  # 1. Crea una nueva columna llamada \"Comentario\" y aplica una función a la columna \"nota\".\n",
        "    'Excelente' if nota >= 90 else ( # 2. Si la nota es mayor o igual a 90, asigna \"Excelente\" a la columna \"Comentario\".\n",
        "        'Muy bien' if nota >= 80 else ( # 3. Si no, si la nota es mayor o igual a 80, asigna \"Muy bien\".\n",
        "            'Bien' if nota >= 70 else ( # 4. Si no, si la nota es mayor o igual a 70, asigna \"Bien\".\n",
        "                'Necesita mejorar' if nota >= 60 else 'Reprobado' # 5. Si no, si la nota es mayor o igual a 60, asigna \"Necesita mejorar\". Si no, asigna \"Reprobado\".\n",
        "            )\n",
        "        )\n",
        "    )\n",
        ")\n",
        "\n",
        "print(df_estudiantes) # 6. Imprime el DataFrame actualizado con la nueva columna \"Comentario\"."
      ],
      "metadata": {
        "colab": {
          "base_uri": "https://localhost:8080/"
        },
        "id": "fA7-nI0k7Iuy",
        "outputId": "d19132cb-35a6-47d4-b2fa-bcaca2f067e4"
      },
      "execution_count": 79,
      "outputs": [
        {
          "output_type": "stream",
          "name": "stdout",
          "text": [
            "  nombre  nota     estado Comentario\n",
            "0    Ana    85   Aprobado   Muy bien\n",
            "1   Juan    72  Reprobado       Bien\n",
            "2  María    91   Aprobado  Excelente\n"
          ]
        }
      ]
    },
    {
      "cell_type": "code",
      "source": [],
      "metadata": {
        "id": "ILG_O51N7Hxn"
      },
      "execution_count": null,
      "outputs": []
    },
    {
      "cell_type": "code",
      "source": [],
      "metadata": {
        "id": "S5GYQ-_g7Hrw"
      },
      "execution_count": null,
      "outputs": []
    },
    {
      "cell_type": "code",
      "source": [],
      "metadata": {
        "id": "e4i8Y5H97HlE"
      },
      "execution_count": null,
      "outputs": []
    },
    {
      "cell_type": "markdown",
      "source": [
        "# Guia para interpretar visualizaciones"
      ],
      "metadata": {
        "id": "1TVP5NpG6YOV"
      }
    },
    {
      "cell_type": "markdown",
      "source": [
        "## **Interpretando Word Clouds**\n",
        "\n",
        "Preguntas guía para analizar las nubes de palabras:\n",
        "\n",
        "**Palabras dominantes:**\n",
        "\n",
        "¿Qué palabras aparecen más grandes en cada año?\n",
        "\n",
        "Ejemplo: Si \"padre\" es grande en 2015, ¿qué podría significar?\n",
        "\n",
        "**Cambios temporales:**\n",
        "\n",
        "Compara 2004 vs 2015:\n",
        "¿Aparecen nuevas palabras temáticas?\n",
        "¿Desaparecen algunas?\n",
        "\n",
        "**Contexto literario:**\n",
        "\n",
        "¿Cómo se relacionan las palabras prominentes con la biografía del autor?\n",
        "Ejemplo: Casciari menciona que su hija nació en 2004 - ¿aparece \"hija\" después?"
      ],
      "metadata": {
        "id": "1zcXAi2-DZ91"
      }
    },
    {
      "cell_type": "markdown",
      "source": [
        "## Ejercicio práctico:\n",
        "\n",
        "1. Selecciona dos años con word clouds diferentes\n",
        "2. Anota 3 palabras clave de cada uno\n",
        "3. Propone una hipótesis sobre el cambio de enfoque"
      ],
      "metadata": {
        "id": "5Fyfn31o6gmf"
      }
    },
    {
      "cell_type": "code",
      "source": [],
      "metadata": {
        "id": "7kztRfN07KWc"
      },
      "execution_count": null,
      "outputs": []
    },
    {
      "cell_type": "code",
      "source": [],
      "metadata": {
        "id": "zSWMLqqN7KK3"
      },
      "execution_count": null,
      "outputs": []
    },
    {
      "cell_type": "code",
      "source": [],
      "metadata": {
        "id": "ixjci3-57KHu"
      },
      "execution_count": null,
      "outputs": []
    },
    {
      "cell_type": "code",
      "source": [],
      "metadata": {
        "id": "NWvFxdIS7KD_"
      },
      "execution_count": null,
      "outputs": []
    },
    {
      "cell_type": "code",
      "source": [],
      "metadata": {
        "id": "H00xmUD37J78"
      },
      "execution_count": null,
      "outputs": []
    }
  ]
}