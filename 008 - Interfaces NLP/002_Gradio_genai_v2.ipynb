{
  "nbformat": 4,
  "nbformat_minor": 0,
  "metadata": {
    "colab": {
      "provenance": []
    },
    "kernelspec": {
      "name": "python3",
      "display_name": "Python 3"
    },
    "language_info": {
      "name": "python"
    }
  },
  "cells": [
    {
      "cell_type": "code",
      "execution_count": null,
      "metadata": {
        "id": "5ZVm6CIouwgF"
      },
      "outputs": [],
      "source": [
        "%pip install -U -q google-genai gradio"
      ]
    },
    {
      "cell_type": "markdown",
      "source": [
        "# Sumarización con Google Gemini API y Gradio\n",
        "Esta interfaz te permite sumarizar textos utilizando el modelo Gemini de Google."
      ],
      "metadata": {
        "id": "KvvIHZvXyE2n"
      }
    },
    {
      "cell_type": "code",
      "source": [
        "from google.colab import userdata\n",
        "import os\n",
        "\n",
        "GOOGLE_API_KEY = userdata.get('GOOGLE_API_KEY')"
      ],
      "metadata": {
        "id": "0xS2NWpqvWHX"
      },
      "execution_count": null,
      "outputs": []
    },
    {
      "cell_type": "code",
      "source": [
        "from google import genai\n",
        "from google.genai import types\n",
        "import gradio as gr\n",
        "\n",
        "cliente = genai.Client(api_key=GOOGLE_API_KEY)"
      ],
      "metadata": {
        "id": "sL2CGPN7vvHj"
      },
      "execution_count": null,
      "outputs": []
    },
    {
      "cell_type": "code",
      "source": [
        "MODEL_ID = \"gemini-2.0-flash-lite\" # @param [\"gemini-2.0-flash-lite\",\"gemini-2.0-flash\",\"gemini-2.5-flash-preview-05-20\",\"gemini-2.5-pro-preview-05-06\"] {\"allow-input\":true, isTemplate: true}"
      ],
      "metadata": {
        "id": "msa42Srs1Mci"
      },
      "execution_count": null,
      "outputs": []
    },
    {
      "cell_type": "markdown",
      "source": [
        "# Texto de ejemplo"
      ],
      "metadata": {
        "id": "Cy_bZVjVyTbE"
      }
    },
    {
      "cell_type": "code",
      "source": [
        "# Texto de ejemplo que se cargará por defecto\n",
        "texto_ejemplo = \"\"\"Estimado Amazon, la semana pasada pedí una figura de acción de Optimus Prime\n",
        "en su tienda en línea en Alemania. Desafortunadamente, cuando abrí el paquete,\n",
        "descubrí con horror que me habían enviado una figura de acción de Megatron\n",
        "en su lugar. Como enemigo de toda la vida de los Decepticons, espero que pueda\n",
        "entender mi dilema. Para resolver el problema, exijo un cambio de Megatron por\n",
        "la figura de Optimus Prime que pedí. Adjunto copias de mis registros relativos\n",
        "a esta compra. Espero tener noticias suyas pronto. Atentamente, Bumblebee.\"\"\""
      ],
      "metadata": {
        "id": "_NwHWVYpv_Ji"
      },
      "execution_count": null,
      "outputs": []
    },
    {
      "cell_type": "markdown",
      "source": [
        "## Función de Sumarización"
      ],
      "metadata": {
        "id": "nR1SRBxf1Sma"
      }
    },
    {
      "cell_type": "code",
      "source": [
        "def sumarizar_texto(texto, tipo_resumen):\n",
        "    \"\"\"Función que sumariza el texto usando Gemini\"\"\"\n",
        "\n",
        "    if not texto.strip():\n",
        "        return \"Por favor, ingresa un texto para sumarizar.\"\n",
        "\n",
        "    # Definir diferentes tipos de prompt según la opción seleccionada\n",
        "    prompts = {\n",
        "        \"Rápido (2 oraciones)\": f\"Sumariza el siguiente texto en dos oraciones de rápida lectura:\\n\\nTexto: {texto}\",\n",
        "        \"Detallado (3-4 líneas)\": f\"Resumí el siguiente texto en no más de 4 líneas:\\n\\nTexto: {texto}\",\n",
        "        \"Muy breve (1 oración)\": f\"Resumí el siguiente texto en UNA sola oración:\\n\\nTexto: {texto}\"\n",
        "    }\n",
        "\n",
        "    try:\n",
        "        respuesta = cliente.models.generate_content(\n",
        "            model=MODEL_ID,\n",
        "            contents=[prompts[tipo_resumen]]\n",
        "        )\n",
        "        return respuesta.text\n",
        "\n",
        "    except Exception as e:\n",
        "        return f\"Error al procesar el texto: {str(e)}\""
      ],
      "metadata": {
        "id": "zjLIg2OZ1Pby"
      },
      "execution_count": null,
      "outputs": []
    },
    {
      "cell_type": "markdown",
      "source": [
        "## Interface Gradio"
      ],
      "metadata": {
        "id": "interface_section"
      }
    },
    {
      "cell_type": "code",
      "source": [
        "# Crear la interfaz Gradio\n",
        "interface = gr.Interface(\n",
        "    fn=sumarizar_texto,\n",
        "    inputs=[\n",
        "        gr.Textbox(\n",
        "            label=\"Texto a sumarizar\",\n",
        "            placeholder=\"Pega acá el texto que queres sumarizar...\",\n",
        "            lines=8,\n",
        "            value=texto_ejemplo\n",
        "        ),\n",
        "        gr.Dropdown(\n",
        "            choices=[\"Rápido (2 oraciones)\", \"Detallado (3-4 líneas)\", \"Muy breve (1 oración)\"],\n",
        "            label=\"Tipo de resumen\",\n",
        "            value=\"Rápido (2 oraciones)\"\n",
        "        )\n",
        "    ],\n",
        "    outputs=gr.Textbox(\n",
        "        label=\"Resumen generado\",\n",
        "        lines=4\n",
        "    ),\n",
        "    title=\"Sumarizador con Gemini\",\n",
        "    description=\"Ingresa cualquier texto y elegí el tipo de resumen que preferis. El modelo Gemini generará un resumen automáticamente.\",\n",
        "    examples=[\n",
        "        [\"Estimado Amazon, la semana pasada pedí una figura de acción de Optimus Prime en su tienda en línea en Alemania.\", \"Rápido (2 oraciones)\"],\n",
        "    ],\n",
        "    theme=gr.themes.Soft()\n",
        ")\n",
        "\n",
        "# Lanzar la interfaz\n",
        "interface.launch()"
      ],
      "metadata": {
        "id": "launch_interface"
      },
      "execution_count": null,
      "outputs": []
    }
  ]
}