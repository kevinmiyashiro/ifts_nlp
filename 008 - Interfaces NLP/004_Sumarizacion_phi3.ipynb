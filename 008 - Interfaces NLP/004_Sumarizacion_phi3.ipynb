{
  "nbformat": 4,
  "nbformat_minor": 0,
  "metadata": {
    "colab": {
      "provenance": []
    },
    "kernelspec": {
      "name": "python3",
      "display_name": "Python 3"
    },
    "language_info": {
      "name": "python"
    }
  },
  "cells": [
    {
      "cell_type": "code",
      "source": [
        "%%capture\n",
        "!pip install gradio -q"
      ],
      "metadata": {
        "id": "r7RJh03Ln3T5"
      },
      "execution_count": null,
      "outputs": []
    },
    {
      "cell_type": "code",
      "source": [
        "import gradio as gr\n",
        "from transformers import AutoTokenizer, AutoModelForCausalLM, pipeline"
      ],
      "metadata": {
        "id": "S_BmIdcPnz34"
      },
      "execution_count": null,
      "outputs": []
    },
    {
      "cell_type": "code",
      "source": [
        "# Cargar modelo Phi-3\n",
        "model_id = \"microsoft/phi-3-mini-4k-instruct\"\n",
        "tokenizer = AutoTokenizer.from_pretrained(model_id)\n",
        "model = AutoModelForCausalLM.from_pretrained(model_id)\n",
        "\n",
        "# Pipeline de texto\n",
        "pipe = pipeline(\"text-generation\", model=model, tokenizer=tokenizer)"
      ],
      "metadata": {
        "id": "lVACDCgKoA2B"
      },
      "execution_count": null,
      "outputs": []
    },
    {
      "cell_type": "code",
      "execution_count": null,
      "metadata": {
        "id": "L2ATWEr8nyE4"
      },
      "outputs": [],
      "source": [
        "# Función de resumen (simple, estilo instruct)\n",
        "def resumir_con_phi3(texto):\n",
        "    prompt = f\"Resume el siguiente texto:\\n\\n{texto}\\n\\nResumen:\"\n",
        "    result = pipe(prompt, max_new_tokens=100, do_sample=False)[0]['generated_text']\n",
        "    resumen = result.split(\"Resumen:\")[-1].strip()\n",
        "    return resumen"
      ]
    },
    {
      "cell_type": "code",
      "source": [
        "# Ejemplo de uso\n",
        "texto = '''Ludwig Josef Johann Wittgenstein (Viena, 26 de abril de 1889-Cambridge, 29 de abril de 1951),\n",
        "conocido como Ludwig Wittgenstein, fue un filósofo, matemático, lingüista y lógico austríaco,\n",
        "posteriormente nacionalizado británico. Su primera teoría plantea que existe una relación biunívoca entre las palabras y la cosas,\n",
        "y que las proposiciones que encadenan las palabras constituyen «imágenes» de la realidad (Tractatus logico-philosophicus),[1]​\n",
        "que influyó en gran medida a los positivistas lógicos del Círculo de Viena,[2]​ movimiento del que nunca se consideró miembro.\n",
        "Tiempo después, el Tractatus fue severamente criticado por el propio Wittgenstein en Los cuadernos azul y marrón y en sus Investigaciones filosóficas,\n",
        "así como en Observaciones filosóficas, obras póstumas en beneficio de una concepción más restringida y concreta,\n",
        "calificada de «juego de lenguaje», en la que destaca el aspecto humano del lenguaje, es decir, su imprecisión y variabilidad\n",
        "según las situaciones. Fue discípulo de Bertrand Russell en el Trinity College de la Universidad de Cambridge,\n",
        "donde más tarde también él llegó a ser profesor.'''\n",
        "print(resumir_con_phi3(texto))"
      ],
      "metadata": {
        "id": "PT3De0UPoDuu"
      },
      "execution_count": null,
      "outputs": []
    },
    {
      "cell_type": "code",
      "source": [
        "gr.Interface(fn=resumir_con_phi3, inputs=\"text\", outputs=\"text\", title=\"Resumen con Phi-3\").launch()"
      ],
      "metadata": {
        "id": "yBzpPfcroNdl"
      },
      "execution_count": null,
      "outputs": []
    }
  ]
}