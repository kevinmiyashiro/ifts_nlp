{
  "nbformat": 4,
  "nbformat_minor": 0,
  "metadata": {
    "colab": {
      "provenance": []
    },
    "kernelspec": {
      "name": "python3",
      "display_name": "Python 3"
    },
    "language_info": {
      "name": "python"
    }
  },
  "cells": [
    {
      "cell_type": "markdown",
      "source": [
        "# Sumarizador de Textos usando API de Google\n",
        "\n",
        "En este notebook vamos a crear una aplicación web simple que resume textos usando IA.\n",
        "\n",
        "**¿Qué hace este código?**\n",
        "- Toma un texto \"largo\"\n",
        "- Lo envía a la IA de Google (Gemini)\n",
        "- La IA devuelve un resumen corto\n",
        "- Lo mostramos en una página web"
      ],
      "metadata": {
        "id": "intro"
      }
    },
    {
      "cell_type": "markdown",
      "source": [
        "## Paso 1: Instalar las herramientas necesarias"
      ],
      "metadata": {
        "id": "step1"
      }
    },
    {
      "cell_type": "code",
      "execution_count": 1,
      "metadata": {
        "id": "install",
        "colab": {
          "base_uri": "https://localhost:8080/"
        },
        "outputId": "4a027ce2-75af-4b1b-f3a3-57d13f373023"
      },
      "outputs": [
        {
          "output_type": "stream",
          "name": "stdout",
          "text": [
            "\u001b[2K   \u001b[90m━━━━━━━━━━━━━━━━━━━━━━━━━━━━━━━━━━━━━━━━\u001b[0m \u001b[32m206.4/206.4 kB\u001b[0m \u001b[31m4.8 MB/s\u001b[0m eta \u001b[36m0:00:00\u001b[0m\n",
            "\u001b[2K   \u001b[90m━━━━━━━━━━━━━━━━━━━━━━━━━━━━━━━━━━━━━━━━\u001b[0m \u001b[32m54.3/54.3 MB\u001b[0m \u001b[31m11.2 MB/s\u001b[0m eta \u001b[36m0:00:00\u001b[0m\n",
            "\u001b[2K   \u001b[90m━━━━━━━━━━━━━━━━━━━━━━━━━━━━━━━━━━━━━━━━\u001b[0m \u001b[32m323.6/323.6 kB\u001b[0m \u001b[31m9.9 MB/s\u001b[0m eta \u001b[36m0:00:00\u001b[0m\n",
            "\u001b[?25h"
          ]
        }
      ],
      "source": [
        "# Instalar las herramientas que necesitamos\n",
        "%pip install -U -q google-genai gradio"
      ]
    },
    {
      "cell_type": "markdown",
      "source": [
        "## Paso 2: Obtener la clave secreta de Google\n",
        "Para usar la IA de Google necesitamos una \"clave\""
      ],
      "metadata": {
        "id": "step2"
      }
    },
    {
      "cell_type": "code",
      "source": [
        "# Importar herramientas\n",
        "from google.colab import userdata\n",
        "import gradio as gr\n",
        "from google import genai\n",
        "\n",
        "# Obtener la clave secreta de Google\n",
        "clave_google = userdata.get('GOOGLE_API_KEY')"
      ],
      "metadata": {
        "id": "TmfUFELujQpn"
      },
      "execution_count": null,
      "outputs": []
    },
    {
      "cell_type": "markdown",
      "source": [
        "## Paso 3: Conectar con la IA de Google\n",
        "Aquí nos conectamos con la API de Gemini"
      ],
      "metadata": {
        "id": "step3"
      }
    },
    {
      "cell_type": "code",
      "source": [
        "# Conectar con la IA de Google\n",
        "ia_gemini = genai.Client(api_key=clave_google)\n",
        "\n",
        "# Elegir qué modelo de IA usar (como elegir qué versión de una app)\n",
        "modelo = \"gemini-2.0-flash\""
      ],
      "metadata": {
        "id": "connect"
      },
      "execution_count": null,
      "outputs": []
    },
    {
      "cell_type": "markdown",
      "source": [
        "## Paso 4: Crear la función que resume textos"
      ],
      "metadata": {
        "id": "step4"
      }
    },
    {
      "cell_type": "code",
      "source": [
        "def resumir_texto(texto_largo):\n",
        "    \"\"\"Esta función toma un texto largo y devuelve un resumen corto\"\"\"\n",
        "\n",
        "    # Si no hay texto, devolver un mensaje\n",
        "    if not texto_largo:\n",
        "        return \"Escribí un texto para resumir\"\n",
        "\n",
        "    # Crear la instrucción para el modelo de lenguaje\n",
        "    instruccion = f\"\"\"Resumí este texto en 1 oracion fácil de leer:\n",
        "\n",
        "    {texto_largo}\"\"\"\n",
        "\n",
        "    # Enviar la instrucción a la API y obtener la respuesta\n",
        "    respuesta = ia_gemini.models.generate_content(\n",
        "        model=modelo,\n",
        "        contents=[instruccion]\n",
        "    )\n",
        "\n",
        "    # Devolver el resumen\n",
        "    return respuesta.text"
      ],
      "metadata": {
        "id": "function"
      },
      "execution_count": null,
      "outputs": []
    },
    {
      "cell_type": "markdown",
      "source": [
        "## Paso 5: Crear la página web\n",
        "Aquí creamos una página web bonita donde la gente puede usar nuestro resumidor"
      ],
      "metadata": {
        "id": "step5"
      }
    },
    {
      "cell_type": "code",
      "source": [
        "# Texto de ejemplo\n",
        "ejemplo = \"\"\"Estimado Amazon, la semana pasada pedí una figura de acción de Optimus Prime\n",
        "en su tienda en línea en Alemania. Desafortunadamente, cuando abrí el paquete,\n",
        "descubrí con horror que me habían enviado una figura de acción de Megatron\n",
        "en su lugar. Como enemigo de toda la vida de los Decepticons, espero que pueda\n",
        "entender mi dilema. Para resolver el problema, exijo un cambio de Megatron por\n",
        "la figura de Optimus Prime que pedí. Adjunto copias de mis registros relativos\n",
        "a esta compra. Espero tener noticias suyas pronto. Atentamente, Bumblebee.\"\"\""
      ],
      "metadata": {
        "id": "interface"
      },
      "execution_count": null,
      "outputs": []
    },
    {
      "cell_type": "code",
      "source": [
        "# Crear la interfaz usando Gradio\n",
        "pagina_web = gr.Interface(\n",
        "    fn=resumir_texto,                    # Usar nuestra función\n",
        "    inputs=gr.Textbox(                   # Caja donde escribir texto\n",
        "        label=\"Escribí tu texto largo acá:\",\n",
        "        lines=6,\n",
        "        value=ejemplo\n",
        "    ),\n",
        "    outputs=gr.Textbox(                  # Caja donde mostrar el resumen\n",
        "        label=\"Acá aparece el resumen:\",\n",
        "        lines=3\n",
        "    ),\n",
        "    title=\"Resumidor de Textos con IA de Lenguaje\",\n",
        "    description=\"Escribí un texto largo y la IA de lenguaje te dará un resumen corto\"\n",
        ")\n",
        "\n",
        "# Mostrar la página web\n",
        "pagina_web.launch()"
      ],
      "metadata": {
        "id": "TPm6iLCp0BKf"
      },
      "execution_count": null,
      "outputs": []
    },
    {
      "cell_type": "markdown",
      "source": [
        "## ¡Listo!\n",
        "\n",
        "**¿Qué acabas de hacer?**\n",
        "1. Instalaste las herramientas necesarias\n",
        "2. Te conectaste con la API de IA de Google\n",
        "3. Creaste una función que resume textos\n",
        "4. Hiciste una página web para que otros la usen\n",
        "\n",
        "**Para experimentar:**\n",
        "- Cambia el texto de ejemplo\n",
        "- Modifica las instrucciones para la IA\n",
        "- Probá pedirle que haga resúmenes más largos o más cortos"
      ],
      "metadata": {
        "id": "conclusion"
      }
    }
  ]
}