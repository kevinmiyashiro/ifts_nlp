{
  "nbformat": 4,
  "nbformat_minor": 0,
  "metadata": {
    "colab": {
      "provenance": []
    },
    "kernelspec": {
      "name": "python3",
      "display_name": "Python 3"
    },
    "language_info": {
      "name": "python"
    }
  },
  "cells": [
    {
      "cell_type": "markdown",
      "metadata": {
        "id": "60b413d1"
      },
      "source": [
        "# Guía Práctica para la Gobernanza de la IA y el Combate al Sesgo Algorítmico 🛡️\n",
        "\n",
        "En esta guía práctica, vamos a **probar** los conceptos clave que exploramos en clase sobre la **Gobernanza de la IA**, el insidioso **sesgo algorítmico** y la **importancia fundamental de los datos y su metadata**.\n",
        "\n",
        "Prepárate para **ejecutar este código** y sumergirte en el proceso:\n",
        "*   Verás cómo se **generan datos sintéticos** (¡incluso introduciremos un sesgo intencional para aprender de forma práctica!).\n",
        "*   Descubrirás la vital importancia de **documentar todo con metadata**.\n",
        "\n",
        "Entender y aplicar estos conceptos es **clave** para construir proyectos de IA que sean verdaderamente **justos, transparentes y responsables**.\n",
        "\n",
        "**Hilo Conductor:** \"Sesgos Algorítmicos: ¿Cómo los detectamos y combatimos desde la base? La Gobernanza de la IA empieza en los datos.\""
      ]
    },
    {
      "cell_type": "code",
      "execution_count": null,
      "metadata": {
        "colab": {
          "base_uri": "https://localhost:8080/"
        },
        "id": "jgAX64vpU6dC",
        "outputId": "0bac5936-3b9c-43c7-df25-a07bf0dd2590"
      },
      "outputs": [
        {
          "output_type": "stream",
          "name": "stdout",
          "text": [
            "Collecting Faker\n",
            "  Downloading faker-37.4.0-py3-none-any.whl.metadata (15 kB)\n",
            "Requirement already satisfied: pandas in /usr/local/lib/python3.11/dist-packages (2.2.2)\n",
            "Requirement already satisfied: tzdata in /usr/local/lib/python3.11/dist-packages (from Faker) (2025.2)\n",
            "Requirement already satisfied: numpy>=1.23.2 in /usr/local/lib/python3.11/dist-packages (from pandas) (2.0.2)\n",
            "Requirement already satisfied: python-dateutil>=2.8.2 in /usr/local/lib/python3.11/dist-packages (from pandas) (2.9.0.post0)\n",
            "Requirement already satisfied: pytz>=2020.1 in /usr/local/lib/python3.11/dist-packages (from pandas) (2025.2)\n",
            "Requirement already satisfied: six>=1.5 in /usr/local/lib/python3.11/dist-packages (from python-dateutil>=2.8.2->pandas) (1.17.0)\n",
            "Downloading faker-37.4.0-py3-none-any.whl (1.9 MB)\n",
            "\u001b[2K   \u001b[90m━━━━━━━━━━━━━━━━━━━━━━━━━━━━━━━━━━━━━━━━\u001b[0m \u001b[32m1.9/1.9 MB\u001b[0m \u001b[31m17.2 MB/s\u001b[0m eta \u001b[36m0:00:00\u001b[0m\n",
            "\u001b[?25hInstalling collected packages: Faker\n",
            "Successfully installed Faker-37.4.0\n",
            "Librerías instaladas correctamente. ¡Listos para empezar!\n"
          ]
        }
      ],
      "source": [
        "# Paso 1: Instalamos las librerías necesarias\n",
        "# Si no las tenés instaladas en tu entorno de Colab, este comando las instala.\n",
        "\n",
        "!pip install Faker pandas\n",
        "\n",
        "print(\"Librerías instaladas correctamente. ¡Listos para empezar!\")"
      ]
    },
    {
      "cell_type": "code",
      "source": [
        "# Paso 2: Importamos lo que vamos a usar\n",
        "# Faker: Para generar datos falsos (sintéticos) pero con aspecto real.\n",
        "# pandas: Para manejar los datos en un formato de tabla (DataFrame).\n",
        "# json: Para trabajar con la metadata en formato JSON, que es un estándar para intercambiar información.\n",
        "\n",
        "from faker import Faker\n",
        "import pandas as pd\n",
        "import random\n",
        "import json\n",
        "import datetime\n",
        "\n",
        "print(\"Librerías importadas.\")"
      ],
      "metadata": {
        "colab": {
          "base_uri": "https://localhost:8080/"
        },
        "id": "p-lCu4OAVLC3",
        "outputId": "9a8feb69-e8f6-4e2e-df70-220ebb24be14"
      },
      "execution_count": null,
      "outputs": [
        {
          "output_type": "stream",
          "name": "stdout",
          "text": [
            "Librerías importadas.\n"
          ]
        }
      ]
    },
    {
      "cell_type": "code",
      "source": [
        "# Paso 3: Inicializamos Faker\n",
        "# Acá le decimos a Faker que genere datos con estilo argentino (es_AR).\n",
        "# Esto es genial para que los ejemplos se sientan más cercanos.\n",
        "\n",
        "fake = Faker('es_AR')\n",
        "\n",
        "print(f\"Faker inicializado con locale '{fake.locale}'.\")"
      ],
      "metadata": {
        "colab": {
          "base_uri": "https://localhost:8080/"
        },
        "id": "M9BLA46jVS-g",
        "outputId": "304194b2-d162-49ba-a0db-ed92933ea08c"
      },
      "execution_count": null,
      "outputs": [
        {
          "output_type": "stream",
          "name": "stdout",
          "text": [
            "Faker inicializado con locale '<bound method BaseProvider.locale of <faker.providers.user_agent.Provider object at 0x7da0b9f543d0>>'.\n"
          ]
        }
      ]
    },
    {
      "cell_type": "markdown",
      "metadata": {
        "id": "8c9673ae"
      },
      "source": [
        "# Módulo 1: Generación de Datos Sintéticos con Sesgo Intencional\n",
        "\n",
        "Acá vamos a crear un dataset sintético de \"empleados\".\n",
        "¿Te acordás el caso de Amazon y el sesgo en la contratación?\n",
        "\n",
        "Para que veas cómo se cuela un sesgo en los datos, vamos a introducir uno intencionalmente en el campo `genero_reportado`. Vamos a hacer que haya un 70% de hombres y un 30% de mujeres para esta demo.\n",
        "\n",
        "*   Esto simula un \"sesgo de proporción\" o \"sesgo histórico\" que podríamos encontrar en datos reales si, por ejemplo, una empresa históricamente contrató más hombres para ciertos roles."
      ]
    },
    {
      "cell_type": "code",
      "source": [
        "num_records = 50 # Un buen número para la demo\n",
        "\n",
        "data_empleados = []\n",
        "roles_disponibles = ['Desarrollador', 'Gerente de Proyectos', 'Analista de Datos', 'Diseñador UX', 'Especialista de RRHH', 'Contador', 'Asistente Administrativo']\n",
        "departamentos_disponibles = ['IT', 'Ventas', 'Marketing', 'Finanzas', 'RRHH', 'Operaciones']\n",
        "\n",
        "# Definimos una distribución sesgada para el género: 70% Masculino, 30% Femenino\n",
        "# Esto se hace repitiendo 'Masculino' 7 veces y 'Femenino' 3 veces en la lista.\n",
        "generos_con_sesgo = ['Masculino'] * 7 + ['Femenino'] * 3\n",
        "\n",
        "print(f\"Generando {num_records} registros de empleados. Atento al sesgo de género intencional.\")"
      ],
      "metadata": {
        "colab": {
          "base_uri": "https://localhost:8080/"
        },
        "id": "e9FdGuqQV0yR",
        "outputId": "20aa92e0-8787-4951-b408-cd0558eaa73b"
      },
      "execution_count": null,
      "outputs": [
        {
          "output_type": "stream",
          "name": "stdout",
          "text": [
            "Generando 50 registros de empleados. Atento al sesgo de género intencional.\n"
          ]
        }
      ]
    },
    {
      "cell_type": "code",
      "source": [
        "for i in range(num_records):\n",
        "    # Elegimos el género según nuestra distribución sesgada\n",
        "    genero_elegido = random.choice(generos_con_sesgo)\n",
        "\n",
        "    # Asignamos el nombre según el género\n",
        "    if genero_elegido == 'Masculino':\n",
        "        nombre = fake.first_name_male()\n",
        "    elif genero_elegido == 'Femenino':\n",
        "        nombre = fake.first_name_female()\n",
        "    else: # Por si agregamos más géneros en el futuro\n",
        "        nombre = fake.first_name()\n",
        "\n",
        "    data_empleados.append({\n",
        "        'id_empleado': fake.unique.uuid4(), # ID único\n",
        "        'nombre': nombre,\n",
        "        'apellido': fake.last_name(),\n",
        "        'genero_reportado': genero_elegido, # Campo con el sesgo\n",
        "        'rol': random.choice(roles_disponibles),\n",
        "        'salario': round(random.uniform(70000, 250000), 2), # Salarios aleatorios\n",
        "        'departamento': random.choice(departamentos_disponibles),\n",
        "        'fecha_contratacion': fake.date_this_decade() # Fecha dentro de los últimos 10 años\n",
        "    })\n",
        "\n",
        "# Convertimos la lista de diccionarios a un DataFrame de Pandas para un manejo más fácil\n",
        "df_empleados = pd.DataFrame(data_empleados)\n",
        "\n",
        "print(\"\\n--- Dataset Sintético de Empleados Generado ---\")"
      ],
      "metadata": {
        "colab": {
          "base_uri": "https://localhost:8080/"
        },
        "id": "qTBY-lZFV5Vm",
        "outputId": "cd1d76eb-5b28-4639-8e78-1c9b75a986eb"
      },
      "execution_count": null,
      "outputs": [
        {
          "output_type": "stream",
          "name": "stdout",
          "text": [
            "\n",
            "--- Dataset Sintético de Empleados Generado ---\n"
          ]
        }
      ]
    },
    {
      "cell_type": "code",
      "source": [
        "# Mostramos las primeras filas para que vean cómo quedó\n",
        "print(df_empleados.head())\n",
        "\n",
        "print(\"\\n--- Distribución del Género Reportado (¡Atento al Sesgo!) ---\")\n",
        "# Contamos cuántos registros hay de cada género para confirmar el sesgo\n",
        "print(df_empleados['genero_reportado'].value_counts())\n",
        "\n",
        "print(\"\\nFijate que el campo 'genero_reportado' muestra un desbalance. Esto es un SESGO DE PROPORCIÓN, similar al que pudo haber existido en los datos de Amazon.\")"
      ],
      "metadata": {
        "colab": {
          "base_uri": "https://localhost:8080/"
        },
        "id": "QMLf6u6XV8qo",
        "outputId": "5d9501c7-93a9-44f0-8fd7-57759001e543"
      },
      "execution_count": null,
      "outputs": [
        {
          "output_type": "stream",
          "name": "stdout",
          "text": [
            "                            id_empleado        nombre   apellido  \\\n",
            "0  875d8dee-dc50-4d90-b0db-f5ccd9657d36        Malena     Vargas   \n",
            "1  d22cdbea-156f-4faa-ae27-fc9c7ff335bc        Emilia  Maldonado   \n",
            "2  01ed355f-0103-46c8-9284-b62bbf96600b   Juan Martin       Rios   \n",
            "3  fc069165-fd7e-4344-921e-2bf3462c0ddd       Candela       Diaz   \n",
            "4  a702aa39-c393-4c4b-9e4a-79e5b9e93250  Juan Ignacio    Carrizo   \n",
            "\n",
            "  genero_reportado                       rol    salario departamento  \\\n",
            "0         Femenino              Diseñador UX  187802.46           IT   \n",
            "1         Femenino                  Contador  160495.97       Ventas   \n",
            "2        Masculino                  Contador  174529.17       Ventas   \n",
            "3         Femenino  Asistente Administrativo  193145.78    Marketing   \n",
            "4        Masculino              Diseñador UX  247321.59     Finanzas   \n",
            "\n",
            "  fecha_contratacion  \n",
            "0         2021-02-12  \n",
            "1         2023-11-30  \n",
            "2         2020-03-20  \n",
            "3         2022-07-31  \n",
            "4         2020-10-19  \n",
            "\n",
            "--- Distribución del Género Reportado (¡Atento al Sesgo!) ---\n",
            "genero_reportado\n",
            "Masculino    35\n",
            "Femenino     15\n",
            "Name: count, dtype: int64\n",
            "\n",
            "Fijate que el campo 'genero_reportado' muestra un desbalance. Esto es un SESGO DE PROPORCIÓN, similar al que pudo haber existido en los datos de Amazon.\n"
          ]
        }
      ]
    },
    {
      "cell_type": "markdown",
      "metadata": {
        "id": "ca98322a"
      },
      "source": [
        "# Módulo 2: Creación de Metadata para Nuestro Dataset\n",
        "\n",
        "Ahora que tenemos nuestro dataset sintético, vamos a crear su metadata.\n",
        "La metadata es el \"ADN\" del dataset. Nos dice todo sobre él: de dónde viene, qué contiene, ¡y crucialmente, qué sesgos conocidos tiene!\n",
        "Sin metadata, es como tener una caja llena de cosas sin etiqueta: no sabés qué hay ni si es seguro usarlo.\n",
        "Esta metadata es clave para la GOBERNANZA:\n",
        "\n",
        "*   **Transparencia:** Cualquier persona puede entender el dataset.\n",
        "*   **Trazabilidad:** Saber el origen y las transformaciones.\n",
        "*   **Detección de Sesgos:** Documentar explícitamente los sesgos conocidos (¡como el que acabamos de crear!).\n",
        "*   **Rendición de Cuentas:** Si hay un problema, podemos rastrear la fuente."
      ]
    },
    {
      "cell_type": "code",
      "source": [
        "metadata_empleados = {\n",
        "    \"nombre_dataset\": \"empleados_sinteticos_demo_sesgo_genero\",\n",
        "    \"descripcion\": \"Dataset de perfiles de empleados generado sintéticamente para fines educativos y demostración de sesgo algorítmico. NO CONTIENE DATOS REALES.\",\n",
        "    \"fuente_datos\": {\n",
        "        \"tipo\": \"Sintético\",\n",
        "        \"herramienta\": \"Faker vX.Y.Z (reemplazar X.Y.Z por la versión usada)\",\n",
        "        \"locale_faker\": \"es_AR\",\n",
        "        \"metodo_generacion\": \"Generación aleatoria de campos con distribución de género ajustada intencionalmente (70% Masculino / 30% Femenino).\"\n",
        "    },\n",
        "    \"fecha_creacion\": datetime.datetime.now().strftime(\"%Y-%m-%d %H:%M:%S\"),\n",
        "    \"ultima_modificacion\": datetime.datetime.now().strftime(\"%Y-%m-%d %H:%M:%S\"),\n",
        "    \"version\": \"1.0\",\n",
        "    \"licencia_uso\": \"Solo para fines educativos, investigación y desarrollo interno. NO para uso productivo o comercial. No usar para inferir patrones reales de empleo.\"\n",
        "}"
      ],
      "metadata": {
        "id": "9OfVSJCaWfNJ"
      },
      "execution_count": null,
      "outputs": []
    },
    {
      "cell_type": "code",
      "source": [
        "metadata_empleados[\"columnas\"] = [\n",
        "    {\n",
        "        \"nombre\": \"id_empleado\",\n",
        "        \"tipo\": \"string (UUID)\",\n",
        "        \"descripcion\": \"Identificador único de cada empleado. Generado aleatoriamente.\",\n",
        "        \"sensibilidad\": \"Baja (sintético, no real)\",\n",
        "        \"ejemplo_valor\": df_empleados['id_empleado'].iloc[0]\n",
        "    },\n",
        "    {\n",
        "        \"nombre\": \"nombre\",\n",
        "        \"tipo\": \"string\",\n",
        "        \"descripcion\": \"Nombre de pila del empleado. Generado aleatoriamente según el género asignado.\",\n",
        "        \"sensibilidad\": \"Baja (sintético, no real)\",\n",
        "        \"ejemplo_valor\": df_empleados['nombre'].iloc[0]\n",
        "    },\n",
        "    {\n",
        "        \"nombre\": \"apellido\",\n",
        "        \"tipo\": \"string\",\n",
        "        \"descripcion\": \"Apellido del empleado. Generado aleatoriamente.\",\n",
        "        \"sensibilidad\": \"Baja (sintético, no real)\",\n",
        "        \"ejemplo_valor\": df_empleados['apellido'].iloc[0]\n",
        "    },\n",
        "    {\n",
        "        \"nombre\": \"genero_reportado\",\n",
        "        \"tipo\": \"string\",\n",
        "        \"descripcion\": \"Género autodeclarado del empleado. Campo con sesgo intencional para demostración.\",\n",
        "        \"sensibilidad\": \"Media (si fuera real, sería un dato personal sensible)\",\n",
        "        \"procesamiento\": \"Seleccionado aleatoriamente de ['Masculino', 'Femenino'] con probabilidad de 70% y 30% respectivamente.\",\n",
        "        \"distribucion_observada\": df_empleados['genero_reportado'].value_counts().to_dict(),\n",
        "        \"advertencia_sesgo_campo\": \"Este campo introduce un sesgo de género en el dataset. Si se usa para entrenamiento de modelos, el modelo podría aprender a favorecer implícitamente al grupo mayoritario ('Masculino').\"\n",
        "    }\n",
        "]"
      ],
      "metadata": {
        "id": "NVIVLdm5WiOR"
      },
      "execution_count": null,
      "outputs": []
    },
    {
      "cell_type": "code",
      "source": [
        "# Continuamos con el resto de columnas\n",
        "metadata_empleados[\"columnas\"].extend([\n",
        "    {\n",
        "        \"nombre\": \"rol\",\n",
        "        \"tipo\": \"string\",\n",
        "        \"descripcion\": \"Rol laboral del empleado en la empresa.\",\n",
        "        \"sensibilidad\": \"Baja\",\n",
        "        \"ejemplo_valor\": df_empleados['rol'].iloc[0]\n",
        "    },\n",
        "    {\n",
        "        \"nombre\": \"salario\",\n",
        "        \"tipo\": \"float\",\n",
        "        \"descripcion\": \"Salario anual del empleado en moneda local.\",\n",
        "        \"sensibilidad\": \"Media (si fuera real, dato personal)\",\n",
        "        \"ejemplo_valor\": df_empleados['salario'].iloc[0]\n",
        "    },\n",
        "    {\n",
        "        \"nombre\": \"departamento\",\n",
        "        \"tipo\": \"string\",\n",
        "        \"descripcion\": \"Departamento al que pertenece el empleado.\",\n",
        "        \"sensibilidad\": \"Baja\",\n",
        "        \"ejemplo_valor\": df_empleados['departamento'].iloc[0]\n",
        "    },\n",
        "    {\n",
        "        \"nombre\": \"fecha_contratacion\",\n",
        "        \"tipo\": \"date\",\n",
        "        \"descripcion\": \"Fecha en que el empleado fue contratado.\",\n",
        "        \"sensibilidad\": \"Baja\",\n",
        "        \"ejemplo_valor\": str(df_empleados['fecha_contratacion'].iloc[0])\n",
        "    }\n",
        "])"
      ],
      "metadata": {
        "id": "KAQ9GzYuWlLi"
      },
      "execution_count": null,
      "outputs": []
    },
    {
      "cell_type": "code",
      "source": [
        "# Agregamos la información crítica sobre sesgos conocidos\n",
        "metadata_empleados[\"sesgos_conocidos_dataset\"] = [\n",
        "    {\n",
        "        \"tipo_sesgo\": \"Sesgo de Proporción / Desbalance de Clase\",\n",
        "        \"campo_afectado\": \"genero_reportado\",\n",
        "        \"descripcion\": \"La distribución de género en este dataset está *intencionalmente desbalanceada* (aproximadamente 70% hombres, 30% mujeres) para fines de demostración. Esto simula cómo un sesgo histórico o de muestreo en datos reales podría influir en un modelo.\",\n",
        "        \"impacto_potencial\": \"Un modelo de aprendizaje automático (ej. para contratación, desempeño o promoción) entrenado con este dataset podría desarrollar sesgos de predicción o clasificación que favorezcan al grupo mayoritario ('Masculino'), perpetuando la discriminación.\"\n",
        "    }\n",
        "]\n",
        "\n",
        "metadata_empleados[\"acciones_mitigacion_sugeridas\"] = \"Si este fuera un dataset real y se fuera a usar para un modelo de impacto, se requeriría aplicar técnicas de balanceo de clases (oversampling, undersampling), ajustar pesos en el modelo o usar algoritmos conscientes de equidad (como los explorados por IBM AI Fairness 360 o Fairlearn de Microsoft) antes de entrenar un modelo.\"\n",
        "\n",
        "metadata_empleados[\"limitaciones_uso\"] = \"Este dataset *no* es representativo de la población laboral real y debe ser usado con extrema precaución. Su propósito es *demostrar* conceptos de sesgo y metadata, no para inferir patrones reales o para uso en sistemas productivos sin una validación exhaustiva.\""
      ],
      "metadata": {
        "id": "rIvocW5sWoKE"
      },
      "execution_count": null,
      "outputs": []
    },
    {
      "cell_type": "code",
      "source": [
        "# Imprimimos la metadata en un formato legible (JSON indentado)\n",
        "print(\"\\n--- Metadata Generada para el Dataset Sintético ---\")\n",
        "print(json.dumps(metadata_empleados, indent=4, ensure_ascii=False))\n",
        "\n",
        "print(\"\\n--- ¡Fijate bien en la sección 'sesgos_conocidos_dataset' de la metadata! ---\")\n",
        "print(\"Ahí es donde documentamos el sesgo que introdujimos. Esto es CRÍTICO para la transparencia.\")"
      ],
      "metadata": {
        "colab": {
          "base_uri": "https://localhost:8080/"
        },
        "id": "7CkWMk85WrbQ",
        "outputId": "ee971ae3-8f96-49d2-da02-53424ae700ec"
      },
      "execution_count": null,
      "outputs": [
        {
          "output_type": "stream",
          "name": "stdout",
          "text": [
            "\n",
            "--- Metadata Generada para el Dataset Sintético ---\n",
            "{\n",
            "    \"nombre_dataset\": \"empleados_sinteticos_demo_sesgo_genero\",\n",
            "    \"descripcion\": \"Dataset de perfiles de empleados generado sintéticamente para fines educativos y demostración de sesgo algorítmico. NO CONTIENE DATOS REALES.\",\n",
            "    \"fuente_datos\": {\n",
            "        \"tipo\": \"Sintético\",\n",
            "        \"herramienta\": \"Faker vX.Y.Z (reemplazar X.Y.Z por la versión usada)\",\n",
            "        \"locale_faker\": \"es_AR\",\n",
            "        \"metodo_generacion\": \"Generación aleatoria de campos con distribución de género ajustada intencionalmente (70% Masculino / 30% Femenino).\"\n",
            "    },\n",
            "    \"fecha_creacion\": \"2025-06-17 19:24:55\",\n",
            "    \"ultima_modificacion\": \"2025-06-17 19:24:55\",\n",
            "    \"version\": \"1.0\",\n",
            "    \"licencia_uso\": \"Solo para fines educativos, investigación y desarrollo interno. NO para uso productivo o comercial. No usar para inferir patrones reales de empleo.\",\n",
            "    \"columnas\": [\n",
            "        {\n",
            "            \"nombre\": \"id_empleado\",\n",
            "            \"tipo\": \"string (UUID)\",\n",
            "            \"descripcion\": \"Identificador único de cada empleado. Generado aleatoriamente.\",\n",
            "            \"sensibilidad\": \"Baja (sintético, no real)\",\n",
            "            \"ejemplo_valor\": \"875d8dee-dc50-4d90-b0db-f5ccd9657d36\"\n",
            "        },\n",
            "        {\n",
            "            \"nombre\": \"nombre\",\n",
            "            \"tipo\": \"string\",\n",
            "            \"descripcion\": \"Nombre de pila del empleado. Generado aleatoriamente según el género asignado.\",\n",
            "            \"sensibilidad\": \"Baja (sintético, no real)\",\n",
            "            \"ejemplo_valor\": \"Malena\"\n",
            "        },\n",
            "        {\n",
            "            \"nombre\": \"apellido\",\n",
            "            \"tipo\": \"string\",\n",
            "            \"descripcion\": \"Apellido del empleado. Generado aleatoriamente.\",\n",
            "            \"sensibilidad\": \"Baja (sintético, no real)\",\n",
            "            \"ejemplo_valor\": \"Vargas\"\n",
            "        },\n",
            "        {\n",
            "            \"nombre\": \"genero_reportado\",\n",
            "            \"tipo\": \"string\",\n",
            "            \"descripcion\": \"Género autodeclarado del empleado. Campo con sesgo intencional para demostración.\",\n",
            "            \"sensibilidad\": \"Media (si fuera real, sería un dato personal sensible)\",\n",
            "            \"procesamiento\": \"Seleccionado aleatoriamente de ['Masculino', 'Femenino'] con probabilidad de 70% y 30% respectivamente.\",\n",
            "            \"distribucion_observada\": {\n",
            "                \"Masculino\": 35,\n",
            "                \"Femenino\": 15\n",
            "            },\n",
            "            \"advertencia_sesgo_campo\": \"Este campo introduce un sesgo de género en el dataset. Si se usa para entrenamiento de modelos, el modelo podría aprender a favorecer implícitamente al grupo mayoritario ('Masculino').\"\n",
            "        },\n",
            "        {\n",
            "            \"nombre\": \"rol\",\n",
            "            \"tipo\": \"string\",\n",
            "            \"descripcion\": \"Rol laboral del empleado en la empresa.\",\n",
            "            \"sensibilidad\": \"Baja\",\n",
            "            \"ejemplo_valor\": \"Diseñador UX\"\n",
            "        },\n",
            "        {\n",
            "            \"nombre\": \"salario\",\n",
            "            \"tipo\": \"float\",\n",
            "            \"descripcion\": \"Salario anual del empleado en moneda local.\",\n",
            "            \"sensibilidad\": \"Media (si fuera real, dato personal)\",\n",
            "            \"ejemplo_valor\": 187802.46\n",
            "        },\n",
            "        {\n",
            "            \"nombre\": \"departamento\",\n",
            "            \"tipo\": \"string\",\n",
            "            \"descripcion\": \"Departamento al que pertenece el empleado.\",\n",
            "            \"sensibilidad\": \"Baja\",\n",
            "            \"ejemplo_valor\": \"IT\"\n",
            "        },\n",
            "        {\n",
            "            \"nombre\": \"fecha_contratacion\",\n",
            "            \"tipo\": \"date\",\n",
            "            \"descripcion\": \"Fecha en que el empleado fue contratado.\",\n",
            "            \"sensibilidad\": \"Baja\",\n",
            "            \"ejemplo_valor\": \"2021-02-12\"\n",
            "        }\n",
            "    ],\n",
            "    \"sesgos_conocidos_dataset\": [\n",
            "        {\n",
            "            \"tipo_sesgo\": \"Sesgo de Proporción / Desbalance de Clase\",\n",
            "            \"campo_afectado\": \"genero_reportado\",\n",
            "            \"descripcion\": \"La distribución de género en este dataset está *intencionalmente desbalanceada* (aproximadamente 70% hombres, 30% mujeres) para fines de demostración. Esto simula cómo un sesgo histórico o de muestreo en datos reales podría influir en un modelo.\",\n",
            "            \"impacto_potencial\": \"Un modelo de aprendizaje automático (ej. para contratación, desempeño o promoción) entrenado con este dataset podría desarrollar sesgos de predicción o clasificación que favorezcan al grupo mayoritario ('Masculino'), perpetuando la discriminación.\"\n",
            "        }\n",
            "    ],\n",
            "    \"acciones_mitigacion_sugeridas\": \"Si este fuera un dataset real y se fuera a usar para un modelo de impacto, se requeriría aplicar técnicas de balanceo de clases (oversampling, undersampling), ajustar pesos en el modelo o usar algoritmos conscientes de equidad (como los explorados por IBM AI Fairness 360 o Fairlearn de Microsoft) antes de entrenar un modelo.\",\n",
            "    \"limitaciones_uso\": \"Este dataset *no* es representativo de la población laboral real y debe ser usado con extrema precaución. Su propósito es *demostrar* conceptos de sesgo y metadata, no para inferir patrones reales o para uso en sistemas productivos sin una validación exhaustiva.\"\n",
            "}\n",
            "\n",
            "--- ¡Fijate bien en la sección 'sesgos_conocidos_dataset' de la metadata! ---\n",
            "Ahí es donde documentamos el sesgo que introdujimos. Esto es CRÍTICO para la transparencia.\n"
          ]
        }
      ]
    },
    {
      "cell_type": "markdown",
      "metadata": {
        "id": "a5f45457"
      },
      "source": [
        "# Módulo 3: Conexión con la Gobernanza y el Combate al Sesgo\n",
        "\n",
        "¿Cómo se relaciona todo esto con la Gobernanza de la IA y el caso Amazon?\n",
        "\n",
        "1.  **El Problema de Amazon:**\n",
        "    Si Amazon hubiera tenido una Gobernanza de Datos robusta, habrían exigido metadata detallada para sus datos históricos de contratación. Esa metadata, como la que acabamos de crear, habría revelado el desbalance de género en sus datos.\n",
        "\n",
        "2.  **La Metadata como \"Alerta Temprana\":**\n",
        "    Al ver esa \"advertencia de sesgo\" en la metadata, el equipo habría podido:\n",
        "    *   Auditar los datos con herramientas especializadas (¡como las que vimos de IBM!).\n",
        "    *   Remediar el dataset (ej. balancearlo, si fuera posible, o ajustar técnicas de modelado).\n",
        "    *   Aplicar algoritmos conscientes de equidad.\n",
        "\n",
        "3.  **La Gobernanza es Prevención:**\n",
        "    Esto demuestra que la Gobernanza de la IA, a través de prácticas como la creación rigurosa de metadata y la trazabilidad, es una herramienta PREVENTIVA. Te permite \"diagnosticar\" problemas en tus datos antes de que se traduzcan en sesgos en tu modelo y causen daños en el mundo real.\n",
        "\n",
        "4.  **Tu Rol Fundamental:**\n",
        "    Como futuro profesional de la IA, tenés la capacidad de influir directamente. Cada decisión que tomes, desde cómo elegís tus datos, cómo los generás (si son sintéticos) y cómo documentás esa información con metadata, tiene un impacto ético."
      ]
    },
    {
      "cell_type": "markdown",
      "metadata": {
        "id": "3649438c"
      },
      "source": [
        "# Ejercicios Adicionales para Explorar\n",
        "\n",
        "*   Cambiá la distribución de género para que sea 50/50 y observá cómo cambia la metadata.\n",
        "*   Agregá otro tipo de sesgo, por ejemplo en los salarios según el género.\n",
        "*   Experimentá con otros campos como edad, experiencia laboral, etc.\n",
        "*   Investigá herramientas de detección de sesgo como IBM AI Fairness 360 o Fairlearn de Microsoft.\n",
        "*   Creá tu propia metadata para un dataset que uses en otro proyecto."
      ]
    }
  ]
}